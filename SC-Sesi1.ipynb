{
  "nbformat": 4,
  "nbformat_minor": 0,
  "metadata": {
    "colab": {
      "provenance": [],
      "toc_visible": true,
      "authorship_tag": "ABX9TyMk4iivNNH2yt9tkd9p/MrD",
      "include_colab_link": true
    },
    "kernelspec": {
      "name": "python3",
      "display_name": "Python 3"
    },
    "language_info": {
      "name": "python"
    }
  },
  "cells": [
    {
      "cell_type": "markdown",
      "metadata": {
        "id": "view-in-github",
        "colab_type": "text"
      },
      "source": [
        "<a href=\"https://colab.research.google.com/github/Herawisp/Scientific_Computing_LAB/blob/main/SC-Sesi1.ipynb\" target=\"_parent\"><img src=\"https://colab.research.google.com/assets/colab-badge.svg\" alt=\"Open In Colab\"/></a>"
      ]
    },
    {
      "cell_type": "markdown",
      "source": [
        "# Catatan"
      ],
      "metadata": {
        "id": "6Oi0h-ZUbeqt"
      }
    },
    {
      "cell_type": "code",
      "source": [
        "import time\n",
        "print(time.ctime())"
      ],
      "metadata": {
        "colab": {
          "base_uri": "https://localhost:8080/"
        },
        "id": "6H3nG9zajmU6",
        "outputId": "70bb65d2-be66-40e2-d69c-846082360360"
      },
      "execution_count": null,
      "outputs": [
        {
          "output_type": "stream",
          "name": "stdout",
          "text": [
            "Thu Feb  6 04:39:53 2025\n"
          ]
        }
      ]
    },
    {
      "cell_type": "markdown",
      "source": [
        "Data Types, Variable and Assignment"
      ],
      "metadata": {
        "id": "xJrQIQxkf0e5"
      }
    },
    {
      "cell_type": "code",
      "source": [
        "a = \"hello\"\n",
        "b = 20\n",
        "c = 30.0\n",
        "d = [\"Apple\", \"Berry\"]\n",
        "\n",
        "print(a, b, c, d)"
      ],
      "metadata": {
        "colab": {
          "base_uri": "https://localhost:8080/"
        },
        "id": "n4c-jJTpkEuy",
        "outputId": "ca8fc7ac-8134-4a28-cd28-f1de56a51cf9"
      },
      "execution_count": null,
      "outputs": [
        {
          "output_type": "stream",
          "name": "stdout",
          "text": [
            "hello 20 30.0 ['Apple', 'Berry']\n"
          ]
        }
      ]
    },
    {
      "cell_type": "code",
      "source": [
        "a = int(1)\n",
        "b = int(2.8)\n",
        "c = int(\"3\")\n",
        "d = str(20)\n",
        "\n",
        "print(a, b, c, d)"
      ],
      "metadata": {
        "colab": {
          "base_uri": "https://localhost:8080/"
        },
        "id": "wXLPOsfflKci",
        "outputId": "80872aea-ab9e-40c2-d6cb-c6c3f23ad8cf"
      },
      "execution_count": null,
      "outputs": [
        {
          "output_type": "stream",
          "name": "stdout",
          "text": [
            "1 2 3 20\n"
          ]
        }
      ]
    },
    {
      "cell_type": "markdown",
      "source": [
        "Concat String"
      ],
      "metadata": {
        "id": "qIudglLElwON"
      }
    },
    {
      "cell_type": "code",
      "source": [
        "a = \"Hello\"\n",
        "b = \" World\"\n",
        "c = a + b\n",
        "print(c)"
      ],
      "metadata": {
        "colab": {
          "base_uri": "https://localhost:8080/"
        },
        "id": "20V1slyPlvnA",
        "outputId": "1e835f9d-25ab-4dd7-e571-8cb2f4a02d6b"
      },
      "execution_count": null,
      "outputs": [
        {
          "output_type": "stream",
          "name": "stdout",
          "text": [
            "Hello World\n"
          ]
        }
      ]
    },
    {
      "cell_type": "code",
      "source": [
        "a = \"Hello World\"\n",
        "print(a[1])\n",
        "print(len(a))"
      ],
      "metadata": {
        "colab": {
          "base_uri": "https://localhost:8080/"
        },
        "id": "9oyCqE43mKOQ",
        "outputId": "0f308015-bf55-4f8e-f013-6be7bdbfcaf6"
      },
      "execution_count": null,
      "outputs": [
        {
          "output_type": "stream",
          "name": "stdout",
          "text": [
            "e\n",
            "11\n"
          ]
        }
      ]
    },
    {
      "cell_type": "markdown",
      "source": [
        "Slicing"
      ],
      "metadata": {
        "id": "6nKIS3D_nTOa"
      }
    },
    {
      "cell_type": "code",
      "source": [
        "b = \"BINUS Univ\"\n",
        "print(b[2:5])\n",
        "\n",
        "c = \"BINUS Univ\"\n",
        "print(c[:5])\n",
        "\n",
        "d = \"BINUS Univ\"\n",
        "print(d[2:])"
      ],
      "metadata": {
        "colab": {
          "base_uri": "https://localhost:8080/"
        },
        "id": "xED0vMOZmfi8",
        "outputId": "895ebee5-ede3-4c18-f480-dcca2ead3576"
      },
      "execution_count": null,
      "outputs": [
        {
          "output_type": "stream",
          "name": "stdout",
          "text": [
            "NUS\n",
            "BINUS\n",
            "NUS Univ\n"
          ]
        }
      ]
    },
    {
      "cell_type": "code",
      "source": [
        "a = \"Hello\"\n",
        "print(a.upper())\n",
        "\n",
        "b + \" World\"\n",
        "print(b.lower())\n",
        "\n",
        "c = \"Hello\"\n",
        "print(a.replace(\"H\", \"J\"))\n",
        "\n",
        "d = \"Hello World\"\n",
        "print(d.split(\" \"))"
      ],
      "metadata": {
        "colab": {
          "base_uri": "https://localhost:8080/"
        },
        "id": "42f5pICvnbnY",
        "outputId": "c009e860-468b-4f3c-a304-5bdc2d88d11a"
      },
      "execution_count": null,
      "outputs": [
        {
          "output_type": "stream",
          "name": "stdout",
          "text": [
            "HELLO\n",
            "binus univ\n",
            "Jello\n",
            "['Hello', 'World']\n"
          ]
        }
      ]
    },
    {
      "cell_type": "code",
      "source": [
        "nama = \"sam\"\n",
        "x = 19\n",
        "string = \"Hello namaku {}, umurku {}\"\n",
        "print(string.format(nama, x))"
      ],
      "metadata": {
        "colab": {
          "base_uri": "https://localhost:8080/"
        },
        "id": "Jq7RDk_voP1O",
        "outputId": "800b5d21-f28d-4bdb-eab4-9460199c533c"
      },
      "execution_count": null,
      "outputs": [
        {
          "output_type": "stream",
          "name": "stdout",
          "text": [
            "Hello namaku sam, umurku 19\n"
          ]
        }
      ]
    },
    {
      "cell_type": "code",
      "source": [
        "nama = \"Grace\"\n",
        "for i in enumerate(nama):\n",
        "  print(i)"
      ],
      "metadata": {
        "colab": {
          "base_uri": "https://localhost:8080/"
        },
        "id": "4U28M8dtpC8v",
        "outputId": "7dd3cf7b-5eeb-4cf2-f492-4e9c8d844466"
      },
      "execution_count": null,
      "outputs": [
        {
          "output_type": "stream",
          "name": "stdout",
          "text": [
            "(0, 'G')\n",
            "(1, 'r')\n",
            "(2, 'a')\n",
            "(3, 'c')\n",
            "(4, 'e')\n"
          ]
        }
      ]
    },
    {
      "cell_type": "markdown",
      "source": [
        "Function, If-Else Statements"
      ],
      "metadata": {
        "id": "F3DJwq5Xgk3A"
      }
    },
    {
      "cell_type": "code",
      "source": [
        "def perbandingan (a, b):\n",
        "  if a > b:\n",
        "    print(\"a lebih besar dari b\")\n",
        "  elif a == b:\n",
        "    print(\"a sama dengan b\")\n",
        "  else:\n",
        "    print(\"a lebih kecil dari b\")"
      ],
      "metadata": {
        "id": "PC0Rq7xMpgyY"
      },
      "execution_count": null,
      "outputs": []
    },
    {
      "cell_type": "code",
      "source": [
        "perbandingan(4, 8)"
      ],
      "metadata": {
        "colab": {
          "base_uri": "https://localhost:8080/"
        },
        "id": "P6RBJjpOp-qW",
        "outputId": "bc9458c1-d7e2-4702-cb8e-54c83f047aff"
      },
      "execution_count": null,
      "outputs": [
        {
          "output_type": "stream",
          "name": "stdout",
          "text": [
            "a lebih kecil dari b\n"
          ]
        }
      ]
    },
    {
      "cell_type": "markdown",
      "source": [
        "Looping"
      ],
      "metadata": {
        "id": "_kV2psWnqvPK"
      }
    },
    {
      "cell_type": "code",
      "source": [
        "i = 1\n",
        "while i < 6:\n",
        "  print(i)\n",
        "  i += 1"
      ],
      "metadata": {
        "colab": {
          "base_uri": "https://localhost:8080/"
        },
        "id": "kQuELddnqrlt",
        "outputId": "336f30fd-a541-49f6-da37-2183a6800b08"
      },
      "execution_count": null,
      "outputs": [
        {
          "output_type": "stream",
          "name": "stdout",
          "text": [
            "1\n",
            "2\n",
            "3\n",
            "4\n",
            "5\n"
          ]
        }
      ]
    },
    {
      "cell_type": "code",
      "source": [
        "i = 1\n",
        "for i in range(2, 6):\n",
        "  print(i)"
      ],
      "metadata": {
        "colab": {
          "base_uri": "https://localhost:8080/"
        },
        "id": "GGJol92ZrPEf",
        "outputId": "fad5e7e3-bb00-4672-b5e7-5a8383416d82"
      },
      "execution_count": null,
      "outputs": [
        {
          "output_type": "stream",
          "name": "stdout",
          "text": [
            "2\n",
            "3\n",
            "4\n",
            "5\n"
          ]
        }
      ]
    },
    {
      "cell_type": "code",
      "source": [
        "for i in range(2, 41):\n",
        "    if i % 2 == 0:\n",
        "      print(i, \"adalah genap\")\n",
        "    else:\n",
        "      print(i, \"adalah ganjil\")"
      ],
      "metadata": {
        "colab": {
          "base_uri": "https://localhost:8080/"
        },
        "id": "p6WNTY0HsWyI",
        "outputId": "95887840-5296-45e1-d0c5-c97a09608944"
      },
      "execution_count": null,
      "outputs": [
        {
          "output_type": "stream",
          "name": "stdout",
          "text": [
            "2 adalah genap\n",
            "3 adalah ganjil\n",
            "4 adalah genap\n",
            "5 adalah ganjil\n",
            "6 adalah genap\n",
            "7 adalah ganjil\n",
            "8 adalah genap\n",
            "9 adalah ganjil\n",
            "10 adalah genap\n",
            "11 adalah ganjil\n",
            "12 adalah genap\n",
            "13 adalah ganjil\n",
            "14 adalah genap\n",
            "15 adalah ganjil\n",
            "16 adalah genap\n",
            "17 adalah ganjil\n",
            "18 adalah genap\n",
            "19 adalah ganjil\n",
            "20 adalah genap\n",
            "21 adalah ganjil\n",
            "22 adalah genap\n",
            "23 adalah ganjil\n",
            "24 adalah genap\n",
            "25 adalah ganjil\n",
            "26 adalah genap\n",
            "27 adalah ganjil\n",
            "28 adalah genap\n",
            "29 adalah ganjil\n",
            "30 adalah genap\n",
            "31 adalah ganjil\n",
            "32 adalah genap\n",
            "33 adalah ganjil\n",
            "34 adalah genap\n",
            "35 adalah ganjil\n",
            "36 adalah genap\n",
            "37 adalah ganjil\n",
            "38 adalah genap\n",
            "39 adalah ganjil\n",
            "40 adalah genap\n"
          ]
        }
      ]
    },
    {
      "cell_type": "markdown",
      "source": [
        "Numpy Arrays"
      ],
      "metadata": {
        "id": "xOpYELk7gSJI"
      }
    },
    {
      "cell_type": "code",
      "source": [
        "import numpy as np\n",
        "x = np.array([[1, 2, 3], [3, 6, 7]])\n",
        "x"
      ],
      "metadata": {
        "colab": {
          "base_uri": "https://localhost:8080/"
        },
        "id": "WBbSU-Lpe8gn",
        "outputId": "11a3ce1a-56e1-4af3-873a-c419b23d615a"
      },
      "execution_count": null,
      "outputs": [
        {
          "output_type": "execute_result",
          "data": {
            "text/plain": [
              "array([[1, 2, 3],\n",
              "       [3, 6, 7]])"
            ]
          },
          "metadata": {},
          "execution_count": 60
        }
      ]
    },
    {
      "cell_type": "code",
      "source": [
        "y = np.array([[8, 2, 9], [3, 5, 7]])\n",
        "y"
      ],
      "metadata": {
        "colab": {
          "base_uri": "https://localhost:8080/"
        },
        "id": "n_HsOuJbvvWr",
        "outputId": "48da6f0c-b151-4faf-d26a-c4a39df41ab5"
      },
      "execution_count": null,
      "outputs": [
        {
          "output_type": "execute_result",
          "data": {
            "text/plain": [
              "array([[8, 2, 9],\n",
              "       [3, 5, 7]])"
            ]
          },
          "metadata": {},
          "execution_count": 57
        }
      ]
    },
    {
      "cell_type": "code",
      "source": [
        "print(x+y)"
      ],
      "metadata": {
        "colab": {
          "base_uri": "https://localhost:8080/"
        },
        "id": "VIDcOG-nv0FN",
        "outputId": "cf3db1ea-84cd-4e8e-e512-1984fce534ba"
      },
      "execution_count": null,
      "outputs": [
        {
          "output_type": "stream",
          "name": "stdout",
          "text": [
            "[[ 9  4 12]\n",
            " [ 6 11 14]]\n"
          ]
        }
      ]
    },
    {
      "cell_type": "code",
      "source": [
        "data = np.array ([10, 9, 8, 7, 5, 6])\n",
        "print(\"Rata-rata:\", np.mean(data))\n",
        "print(\"Maksimum:\", np.max(data))\n",
        "print(\"Minimum:\", np.min(data))\n",
        "print(\"Standar Deviasi:\", np.std(data))"
      ],
      "metadata": {
        "id": "DXeCWD08wFNU"
      },
      "execution_count": null,
      "outputs": []
    },
    {
      "cell_type": "markdown",
      "source": [
        "# Modul 1"
      ],
      "metadata": {
        "id": "C4w4dmnQyqW1"
      }
    },
    {
      "cell_type": "markdown",
      "source": [
        "Login dengan sistem password"
      ],
      "metadata": {
        "id": "1SW763s_YFh4"
      }
    },
    {
      "cell_type": "code",
      "source": [
        "username = input(\"Masukkan username anda : \")\n",
        "\n",
        "while True:\n",
        "  password = input(\"Masukkan password anda : \")\n",
        "  if password == \"Admin123\": break\n",
        "  print(\"Password salah, coba lagi.\")\n",
        "\n",
        "print(\"Login Berhasil, Selamat datang\", username)"
      ],
      "metadata": {
        "colab": {
          "base_uri": "https://localhost:8080/"
        },
        "id": "gL2wSjVLzuMx",
        "outputId": "c77e8c39-1459-4d6b-d9fb-b5aa752ce44a"
      },
      "execution_count": 16,
      "outputs": [
        {
          "output_type": "stream",
          "name": "stdout",
          "text": [
            "Masukkan username anda : Ailie\n",
            "Masukkan password anda : Admin123\n",
            "Login Berhasil, Selamat datang Ailie\n"
          ]
        }
      ]
    },
    {
      "cell_type": "markdown",
      "source": [
        "Meminta data mahasiswa"
      ],
      "metadata": {
        "id": "OgLCzwmIYMMP"
      }
    },
    {
      "cell_type": "code",
      "source": [
        "nama_siswa = input(\"Masukkan nama siswa : \")\n",
        "\n",
        "while True:\n",
        "  try:\n",
        "    uas = float(input(\"Masukkan nilai UAS : \"))\n",
        "    if 0 <= uas <= 100: break\n",
        "    print(\"Nilai harus diantara 0 - 100, coba lagi.\")\n",
        "  except ValueError:\n",
        "    print(\"Nilai harus berupa angka, coba lagi.\")\n",
        "\n",
        "while True:\n",
        "  try:\n",
        "    uts = float(input(\"Masukkan nilai UTS : \"))\n",
        "    if 0 <= uts <= 100: break\n",
        "    print(\"Nilai harus diantara 0 - 100, coba lagi.\")\n",
        "  except ValueError:\n",
        "    print(\"Nilai harus berupa angka, coba lagi.\")\n",
        "\n",
        "while True:\n",
        "  try:\n",
        "    assignment = float(input(\"Masukkan nilai UTS : \"))\n",
        "    if 0 <= assignment <= 100: break\n",
        "    print(\"Nilai harus diantara 0 - 100, coba lagi.\")\n",
        "  except ValueError:\n",
        "    print(\"Nilai harus berupa angka, coba lagi.\")"
      ],
      "metadata": {
        "colab": {
          "base_uri": "https://localhost:8080/"
        },
        "id": "lKPyiNobYOU8",
        "outputId": "b407c5f6-8d24-49cd-d45f-50d4531c24f4"
      },
      "execution_count": 17,
      "outputs": [
        {
          "name": "stdout",
          "output_type": "stream",
          "text": [
            "Masukkan nama siswa : Reynard\n",
            "Masukkan nilai UAS : 78\n",
            "Masukkan nilai UTS : 100\n",
            "Masukkan nilai UTS : 98\n"
          ]
        }
      ]
    },
    {
      "cell_type": "markdown",
      "source": [
        "Menghitung Nilai Akhir"
      ],
      "metadata": {
        "id": "MuAdf4-VZgvY"
      }
    },
    {
      "cell_type": "code",
      "source": [
        "def calculate(uas, uts, asg):\n",
        "  return (uas * 0.5) + (uts * 0.3) + (asg * 0.2)\n",
        "\n",
        "def grading(total):\n",
        "  if 90 <= total <= 100: return \"A\"\n",
        "  elif 85 <= total <= 89: return \"A-\"\n",
        "  elif 80 <= total <= 84: return \"B+\"\n",
        "  elif 75 <= total <= 79: return \"B\"\n",
        "  elif 70 <= total <= 74: return \"B-\"\n",
        "  elif 65 <= total <= 69: return \"C\"\n",
        "  elif 60 <= total <= 64: return \"D\"\n",
        "  elif 11 <= total <= 59: return \"E\"\n",
        "  else: return \"F\"\n",
        "\n",
        "final_score = calculate(uas, uts, assignment)\n",
        "grade = grading(final_score)"
      ],
      "metadata": {
        "id": "vk7FqE0lZipQ"
      },
      "execution_count": 18,
      "outputs": []
    },
    {
      "cell_type": "markdown",
      "source": [
        "Tampilan Hasil Akhir"
      ],
      "metadata": {
        "id": "Tfq2FonRa1PB"
      }
    },
    {
      "cell_type": "code",
      "source": [
        "print(\"====================================================\")\n",
        "print(\"Hasil perolehan nilai\", nama_siswa)\n",
        "print(\"Final Score:\", final_score)\n",
        "print(\"Grade:\", grade)\n"
      ],
      "metadata": {
        "colab": {
          "base_uri": "https://localhost:8080/"
        },
        "id": "6GlPJk-2a2ux",
        "outputId": "c7901a4e-899e-473b-e76b-de227e9b412f"
      },
      "execution_count": 19,
      "outputs": [
        {
          "output_type": "stream",
          "name": "stdout",
          "text": [
            "====================================================\n",
            "Hasil perolehan nilai Reynard\n",
            "Final Score: 88.6\n",
            "Grade: A-\n"
          ]
        }
      ]
    }
  ]
}