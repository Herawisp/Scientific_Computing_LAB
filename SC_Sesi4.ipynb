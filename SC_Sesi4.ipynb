{
  "nbformat": 4,
  "nbformat_minor": 0,
  "metadata": {
    "colab": {
      "provenance": [],
      "toc_visible": true,
      "include_colab_link": true
    },
    "kernelspec": {
      "name": "python3",
      "display_name": "Python 3"
    },
    "language_info": {
      "name": "python"
    }
  },
  "cells": [
    {
      "cell_type": "markdown",
      "metadata": {
        "id": "view-in-github",
        "colab_type": "text"
      },
      "source": [
        "<a href=\"https://colab.research.google.com/github/Herawisp/Scientific_Computing_LAB/blob/main/SC_Sesi4.ipynb\" target=\"_parent\"><img src=\"https://colab.research.google.com/assets/colab-badge.svg\" alt=\"Open In Colab\"/></a>"
      ]
    },
    {
      "cell_type": "markdown",
      "source": [
        "# Catatan"
      ],
      "metadata": {
        "id": "VFH5yFwwF8_A"
      }
    },
    {
      "cell_type": "code",
      "execution_count": 1,
      "metadata": {
        "id": "JXpvtgciik02"
      },
      "outputs": [],
      "source": [
        "import numpy as np\n",
        "\n",
        "def my_bisection(f, a, b, tol):\n",
        "    if np.sign(f(a)) == np.sign(f(b)):\n",
        "        raise Exception(\"a dan b tidak mengapit akar\")\n",
        "\n",
        "    m = (a + b) / 2\n",
        "    if abs(f(m)) < tol:\n",
        "        return m\n",
        "    elif np.sign(f(a)) == np.sign(f(m)):\n",
        "        return my_bisection(f, m, b, tol)\n",
        "    else:\n",
        "        return my_bisection(f, a, m, tol)\n"
      ]
    },
    {
      "cell_type": "code",
      "source": [
        "f = lambda x: x**2 - 2\n",
        "\n",
        "r1 = my_bisection(f, 0, 2, 0.1)\n",
        "print(\"r1 = \", r1)\n",
        "r01 = my_bisection(f, 0, 2, 0.01)\n",
        "print(\"r01 = \", r01)\n",
        "\n",
        "print(\"f(r1) = \", f(r1))\n",
        "print(\"f(r01) = \", f(r01))"
      ],
      "metadata": {
        "colab": {
          "base_uri": "https://localhost:8080/"
        },
        "id": "xByfSjHpIUeD",
        "outputId": "9dae6b3a-3df9-4ef0-dc4f-66696e2b455b"
      },
      "execution_count": 2,
      "outputs": [
        {
          "output_type": "stream",
          "name": "stdout",
          "text": [
            "r1 =  1.4375\n",
            "r01 =  1.4140625\n",
            "f(r1) =  0.06640625\n",
            "f(r01) =  -0.00042724609375\n"
          ]
        }
      ]
    },
    {
      "cell_type": "code",
      "source": [
        "f = lambda x: x**2 - 2\n",
        "f_prime = lambda x: 2 * x\n",
        "newton_raphson = 1.4 - (f(1.4) / (f_prime(1.4)))\n",
        "\n",
        "print(\"newton_raphson = \", newton_raphson)\n",
        "print(\"sqrt(2) = \", np.sqrt(2))\n"
      ],
      "metadata": {
        "colab": {
          "base_uri": "https://localhost:8080/"
        },
        "id": "eE3z9loylC9Y",
        "outputId": "7f227c3b-f0dc-4c13-e685-1bd7e595bd60"
      },
      "execution_count": 3,
      "outputs": [
        {
          "output_type": "stream",
          "name": "stdout",
          "text": [
            "newton_raphson =  1.4142857142857144\n",
            "sqrt(2) =  1.4142135623730951\n"
          ]
        }
      ]
    },
    {
      "cell_type": "code",
      "source": [
        "def my_newton(f, df, x0, tol):\n",
        "    if abs(f(x0)) < tol:\n",
        "        return x0\n",
        "    else:\n",
        "        return my_newton(f, df, x0 - f(x0) / df(x0), tol)"
      ],
      "metadata": {
        "id": "ARFiCl2QJv5w"
      },
      "execution_count": 4,
      "outputs": []
    },
    {
      "cell_type": "code",
      "source": [
        "estimate = my_newton(f, f_prime, 1.5, 1e-6)\n",
        "print(\"estimate =\", estimate)\n",
        "print(\"sqrt(2) =\", np.sqrt(2))"
      ],
      "metadata": {
        "colab": {
          "base_uri": "https://localhost:8080/"
        },
        "id": "o1HvJESSJ1x8",
        "outputId": "bfeb0618-ea68-4758-d343-b0c0d5d5d263"
      },
      "execution_count": 5,
      "outputs": [
        {
          "output_type": "stream",
          "name": "stdout",
          "text": [
            "estimate = 1.4142135623746899\n",
            "sqrt(2) = 1.4142135623730951\n"
          ]
        }
      ]
    },
    {
      "cell_type": "code",
      "source": [
        "import numpy as np\n",
        "\n",
        "def my_bisection(f, a, b, tol):\n",
        "    if np.sign(f(a)) == np.sign(f(b)):\n",
        "        raise Exception(\"The scalars a and b do not bound a root\")\n",
        "\n",
        "    m = (a + b) / 2\n",
        "\n",
        "    if np.abs(f(m)) < tol:\n",
        "        return m\n",
        "    elif np.sign(f(a)) == np.sign(f(m)):\n",
        "        return my_bisection(f, m, b, tol)\n",
        "    elif np.sign(f(b)) == np.sign(f(m)):\n",
        "        return my_bisection(f, a, m, tol)\n",
        "\n",
        "f = lambda x: x**3 + x - 1\n",
        "\n",
        "r1 = my_bisection(f, 0, 1, 0.001)\n",
        "print(\"r1 =\", r1)\n",
        "\n",
        "r01 = my_bisection(f, 0, 1, 0.0001)\n",
        "print(\"r01 =\", r01)\n",
        "\n",
        "print(\"f(r1) =\", f(r1))\n",
        "print(\"f(r01) =\", f(r01))"
      ],
      "metadata": {
        "id": "gVq5CuFCyQXI",
        "outputId": "91ac3385-6dfd-4ce7-d00d-fe30695a93fc",
        "colab": {
          "base_uri": "https://localhost:8080/"
        }
      },
      "execution_count": 6,
      "outputs": [
        {
          "output_type": "stream",
          "name": "stdout",
          "text": [
            "r1 = 0.6826171875\n",
            "r01 = 0.68231201171875\n",
            "f(r1) = 0.0006937412545084953\n",
            "f(r01) = -3.7848654073968646e-05\n"
          ]
        }
      ]
    },
    {
      "cell_type": "code",
      "source": [
        "import numpy as np\n",
        "\n",
        "f = lambda x: x**2 - np.log(x + 2)\n",
        "f_prime = lambda x: 2*x - 1/(x + 2)\n",
        "\n",
        "def my_newton(f, f_prime, x0, tol):\n",
        "    if abs(f(x0)) < tol:\n",
        "        return x0\n",
        "    else:\n",
        "        return my_newton(f, f_prime, x0 - f(x0)/f_prime(x0), tol)\n",
        "\n",
        "result = my_newton(f, f_prime, 1, 0.001)\n",
        "print(\"Root:\", result)\n",
        "print(\"f(root) =\", f(result))"
      ],
      "metadata": {
        "id": "5IWOStlmyRTr",
        "outputId": "1d5f2645-ae93-4034-f7b4-ff0ad167eb6b",
        "colab": {
          "base_uri": "https://localhost:8080/"
        }
      },
      "execution_count": 7,
      "outputs": [
        {
          "output_type": "stream",
          "name": "stdout",
          "text": [
            "Root: 1.0571060546915994\n",
            "f(root) = 4.476150596621764e-06\n"
          ]
        }
      ]
    },
    {
      "cell_type": "markdown",
      "source": [
        "# Modul"
      ],
      "metadata": {
        "id": "HosFDvefGbyE"
      }
    },
    {
      "cell_type": "markdown",
      "source": [
        "Quiz Bisection\n",
        "\n",
        "1.   \n",
        "    f(x)= x^3 -3x^2 +2x\n",
        "\n",
        "    [a,b] = [1,2]\n",
        "\n",
        "    tol = 0.01\n",
        "\n",
        "2.   \n",
        "    f(x)= sin(x) - x\n",
        "\n",
        "    [a,b] = [0,1]\n",
        "\n",
        "    tol = 0.001"
      ],
      "metadata": {
        "id": "o3rMzCM9Gmaa"
      }
    },
    {
      "cell_type": "code",
      "source": [
        "import numpy as np\n",
        "\n",
        "def my_bisection(f, a, b, tol):\n",
        "    if np.sign(f(a)) == np.sign(f(b)):\n",
        "        raise Exception(\"a dan b tidak mengapit akar\")\n",
        "\n",
        "    while (b - a) / 2 > tol:\n",
        "        m = (a + b) / 2\n",
        "        if f(m) == 0:\n",
        "            return m\n",
        "        elif np.sign(f(a)) == np.sign(f(m)):\n",
        "            a = m\n",
        "        else:\n",
        "            b = m\n",
        "    return (a + b) / 2"
      ],
      "metadata": {
        "id": "QAB0XVT5HMBd"
      },
      "execution_count": null,
      "outputs": []
    },
    {
      "cell_type": "code",
      "source": [
        "f = lambda x: x**3 - 3*x**2 + 2*x\n",
        "\n",
        "r1 = my_bisection(f, 1.2, 2, 0.01)\n",
        "print(\"r1 =\", r1)\n",
        "\n",
        "print(\"f(r1) =\", f(r1))"
      ],
      "metadata": {
        "colab": {
          "base_uri": "https://localhost:8080/"
        },
        "id": "hB8ML13rSNFM",
        "outputId": "53d02233-28b6-4ca2-f142-c86c142fba21"
      },
      "execution_count": 8,
      "outputs": [
        {
          "output_type": "stream",
          "name": "stdout",
          "text": [
            "r1 = 1.996875\n",
            "f(r1) = -0.006220733642579912\n"
          ]
        }
      ]
    },
    {
      "cell_type": "code",
      "source": [
        "f = lambda x: np.sin(x) - x\n",
        "\n",
        "r1 = my_bisection(f, 0, 1, 0.001)\n",
        "print(\"r1 =\", r1)\n",
        "\n",
        "print(\"f(r1) =\", f(r1))"
      ],
      "metadata": {
        "colab": {
          "base_uri": "https://localhost:8080/"
        },
        "id": "_bxe5YMZS6xL",
        "outputId": "4be80b81-c591-4697-e262-8b12b13bee10"
      },
      "execution_count": 9,
      "outputs": [
        {
          "output_type": "stream",
          "name": "stdout",
          "text": [
            "r1 = 0.125\n",
            "f(r1) = -0.0003252666147723071\n"
          ]
        }
      ]
    },
    {
      "cell_type": "markdown",
      "source": [
        "Quiz Newton-Raphson\n",
        "\n",
        "1.   f(x) = x^3 - 3x^2 + 2x\n",
        "\n",
        "    x0 = 1,5\n",
        "\n",
        "    tol = 0.01\n",
        "\n",
        "2.   f(x) = e^x - 2x\n",
        "\n",
        "    x0 = 1\n",
        "  \n",
        "    tol = 0.001\n",
        "\n"
      ],
      "metadata": {
        "id": "WMBetC4qRU3p"
      }
    },
    {
      "cell_type": "code",
      "source": [
        "def my_newton(f, df, x0, tol):\n",
        "    while abs(f(x0)) > tol:\n",
        "        x0 = x0 - f(x0) / df(x0)\n",
        "    return x0"
      ],
      "metadata": {
        "id": "DbXfvmuyRXPZ"
      },
      "execution_count": 13,
      "outputs": []
    },
    {
      "cell_type": "code",
      "source": [
        "f = lambda x: x**3 - 3*x**2 + 2*x\n",
        "f_prime = lambda x: 3*x**2 - 6*x + 2\n",
        "\n",
        "result = my_newton(f, f_prime, 1.5, 0.01)\n",
        "print(\"Root:\", result)\n",
        "print(\"f(root) =\", f(result))"
      ],
      "metadata": {
        "colab": {
          "base_uri": "https://localhost:8080/"
        },
        "id": "c21UXOMcTZy3",
        "outputId": "9b719149-235b-4b45-d320-ac9778cf1f67"
      },
      "execution_count": 14,
      "outputs": [
        {
          "output_type": "stream",
          "name": "stdout",
          "text": [
            "Root: 0.0\n",
            "f(root) = 0.0\n"
          ]
        }
      ]
    },
    {
      "cell_type": "code",
      "source": [
        "def my_newton(f, f_prime, x0, tol, iteration=100000):\n",
        "    for _ in range(iteration):\n",
        "        if abs(f(x0)) < tol:\n",
        "            return x0\n",
        "        x0 = x0 - f(x0)/f_prime(x0)\n",
        "    return x0\n",
        "\n",
        "f = lambda x: np.exp(x) - 2*x\n",
        "f_prime = lambda x: np.exp(x) - 2\n",
        "\n",
        "result = my_newton(f, f_prime, 1, 0.001)\n",
        "print(\"Root:\", result)\n",
        "print(\"f(root) =\", f(result))"
      ],
      "metadata": {
        "colab": {
          "base_uri": "https://localhost:8080/"
        },
        "id": "Q8VM2y3tTi-l",
        "outputId": "d3bace3f-2b9e-4cd3-c549-ff7ad724098c"
      },
      "execution_count": 18,
      "outputs": [
        {
          "output_type": "stream",
          "name": "stdout",
          "text": [
            "Root: 1.0\n",
            "f(root) = 0.7182818284590451\n"
          ]
        }
      ]
    }
  ]
}